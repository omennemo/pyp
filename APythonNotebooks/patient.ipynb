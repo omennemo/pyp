{
 "cells": [
  {
   "cell_type": "code",
   "execution_count": 1,
   "metadata": {
    "collapsed": true
   },
   "outputs": [],
   "source": [
    "#import\n",
    "import pandas as pd\n",
    "import numpy as np\n",
    "import os as os"
   ]
  },
  {
   "cell_type": "code",
   "execution_count": 2,
   "metadata": {
    "collapsed": true
   },
   "outputs": [],
   "source": [
    "#Setting data path\n",
    "default_path = \"/Users/nimeshvellera/Documents/201704-NMIMS-MTech-DS-Python/assignments\"\n",
    "os.chdir(default_path)"
   ]
  },
  {
   "cell_type": "code",
   "execution_count": 3,
   "metadata": {
    "collapsed": true
   },
   "outputs": [],
   "source": [
    "df = pd.read_csv(\"./patient-data.csv\")"
   ]
  },
  {
   "cell_type": "code",
   "execution_count": 4,
   "metadata": {},
   "outputs": [
    {
     "data": {
      "text/html": [
       "<div>\n",
       "<table border=\"1\" class=\"dataframe\">\n",
       "  <thead>\n",
       "    <tr style=\"text-align: right;\">\n",
       "      <th></th>\n",
       "      <th>ID</th>\n",
       "      <th>Name</th>\n",
       "      <th>Race</th>\n",
       "      <th>Gender</th>\n",
       "      <th>Smokes</th>\n",
       "      <th>HeightInCms</th>\n",
       "      <th>WeightInKgs</th>\n",
       "      <th>BirthDate</th>\n",
       "      <th>State</th>\n",
       "      <th>Pet</th>\n",
       "      <th>HealthGrade</th>\n",
       "      <th>Died</th>\n",
       "      <th>RecordDate</th>\n",
       "    </tr>\n",
       "  </thead>\n",
       "  <tbody>\n",
       "    <tr>\n",
       "      <th>0</th>\n",
       "      <td>AC/AH/001</td>\n",
       "      <td>Demetr,ius</td>\n",
       "      <td>White</td>\n",
       "      <td>Male</td>\n",
       "      <td>False</td>\n",
       "      <td>182.87</td>\n",
       "      <td>76.57</td>\n",
       "      <td>1972-01-31</td>\n",
       "      <td>Georgia,xxx</td>\n",
       "      <td>Dog</td>\n",
       "      <td>2</td>\n",
       "      <td>False</td>\n",
       "      <td>2015-11-25</td>\n",
       "    </tr>\n",
       "    <tr>\n",
       "      <th>1</th>\n",
       "      <td>AC/AH/017</td>\n",
       "      <td>Rosario</td>\n",
       "      <td>White</td>\n",
       "      <td>Male</td>\n",
       "      <td>False</td>\n",
       "      <td>179.12</td>\n",
       "      <td>80.43</td>\n",
       "      <td>1972-06-09</td>\n",
       "      <td>Missouri</td>\n",
       "      <td>Dog</td>\n",
       "      <td>2</td>\n",
       "      <td>False</td>\n",
       "      <td>2015-11-25</td>\n",
       "    </tr>\n",
       "    <tr>\n",
       "      <th>2</th>\n",
       "      <td>AC/AH/020</td>\n",
       "      <td>Julio</td>\n",
       "      <td>Black</td>\n",
       "      <td>Male</td>\n",
       "      <td>False</td>\n",
       "      <td>169.15</td>\n",
       "      <td>75.48</td>\n",
       "      <td>1972-07-03</td>\n",
       "      <td>Pennsylvania</td>\n",
       "      <td>None</td>\n",
       "      <td>2</td>\n",
       "      <td>False</td>\n",
       "      <td>2015-11-25</td>\n",
       "    </tr>\n",
       "    <tr>\n",
       "      <th>3</th>\n",
       "      <td>AC/AH/022</td>\n",
       "      <td>Lupe</td>\n",
       "      <td>White</td>\n",
       "      <td>Male</td>\n",
       "      <td>False</td>\n",
       "      <td>175.66</td>\n",
       "      <td>94.54</td>\n",
       "      <td>1972-08-11</td>\n",
       "      <td>Florida</td>\n",
       "      <td>Cat</td>\n",
       "      <td>1</td>\n",
       "      <td>False</td>\n",
       "      <td>2015-11-25</td>\n",
       "    </tr>\n",
       "    <tr>\n",
       "      <th>4</th>\n",
       "      <td>AC/AH/029</td>\n",
       "      <td>Lavern</td>\n",
       "      <td>White</td>\n",
       "      <td>Female</td>\n",
       "      <td>False</td>\n",
       "      <td>164.47</td>\n",
       "      <td>71.78</td>\n",
       "      <td>1973-06-06</td>\n",
       "      <td>Iowa</td>\n",
       "      <td>NaN</td>\n",
       "      <td>2</td>\n",
       "      <td>True</td>\n",
       "      <td>2015-11-25</td>\n",
       "    </tr>\n",
       "  </tbody>\n",
       "</table>\n",
       "</div>"
      ],
      "text/plain": [
       "          ID        Name   Race  Gender Smokes  HeightInCms  WeightInKgs  \\\n",
       "0  AC/AH/001  Demetr,ius  White    Male  False       182.87        76.57   \n",
       "1  AC/AH/017     Rosario  White    Male  False       179.12        80.43   \n",
       "2  AC/AH/020       Julio  Black    Male  False       169.15        75.48   \n",
       "3  AC/AH/022        Lupe  White    Male  False       175.66        94.54   \n",
       "4  AC/AH/029      Lavern  White  Female  False       164.47        71.78   \n",
       "\n",
       "    BirthDate         State   Pet  HealthGrade   Died  RecordDate  \n",
       "0  1972-01-31   Georgia,xxx   Dog            2  False  2015-11-25  \n",
       "1  1972-06-09      Missouri   Dog            2  False  2015-11-25  \n",
       "2  1972-07-03  Pennsylvania  None            2  False  2015-11-25  \n",
       "3  1972-08-11       Florida   Cat            1  False  2015-11-25  \n",
       "4  1973-06-06          Iowa   NaN            2   True  2015-11-25  "
      ]
     },
     "execution_count": 4,
     "metadata": {},
     "output_type": "execute_result"
    }
   ],
   "source": [
    "df.head()"
   ]
  },
  {
   "cell_type": "markdown",
   "metadata": {},
   "source": [
    "This is a mark down cell. This is how to insert text in between"
   ]
  },
  {
   "cell_type": "code",
   "execution_count": 5,
   "metadata": {},
   "outputs": [
    {
     "name": "stdout",
     "output_type": "stream",
     "text": [
      "Index(['ID', 'Name', 'Race', 'Gender', 'Smokes', 'HeightInCms', 'WeightInKgs',\n",
      "       'BirthDate', 'State', 'Pet', 'HealthGrade', 'Died', 'RecordDate'],\n",
      "      dtype='object')\n"
     ]
    }
   ],
   "source": [
    "print(df.columns)"
   ]
  },
  {
   "cell_type": "code",
   "execution_count": null,
   "metadata": {
    "collapsed": true
   },
   "outputs": [],
   "source": []
  }
 ],
 "metadata": {
  "kernelspec": {
   "display_name": "Python 3",
   "language": "python",
   "name": "python3"
  },
  "language_info": {
   "codemirror_mode": {
    "name": "ipython",
    "version": 3
   },
   "file_extension": ".py",
   "mimetype": "text/x-python",
   "name": "python",
   "nbconvert_exporter": "python",
   "pygments_lexer": "ipython3",
   "version": "3.6.0"
  }
 },
 "nbformat": 4,
 "nbformat_minor": 2
}
